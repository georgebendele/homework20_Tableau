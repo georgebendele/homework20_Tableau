{
 "cells": [
  {
   "cell_type": "code",
   "execution_count": 1,
   "metadata": {},
   "outputs": [],
   "source": [
    "import numpy as np\n",
    "import matplotlib.pyplot as plt\n",
    "import pandas as pd\n",
    "from pandas import *\n",
    "import seaborn as sns\n",
    "from matplotlib import rcParams\n",
    "import datetime as dt"
   ]
  },
  {
   "cell_type": "code",
   "execution_count": 2,
   "metadata": {},
   "outputs": [],
   "source": [
    "df1 = pd.read_csv('fem_rides_1.csv')\n",
    "df2 = pd.read_csv('fem_rides_2.csv')\n",
    "df3 = pd.read_csv('fem_rides_3.csv')\n",
    "df4 = pd.read_csv('fem_rides_4.csv')\n",
    "df5 = pd.read_csv('fem_rides_5.csv')\n",
    "df6 = pd.read_csv('fem_rides_6.csv')\n",
    "df7 = pd.read_csv('fem_rides_7.csv')\n",
    "df8 = pd.read_csv('fem_rides_8.csv')\n",
    "df9 = pd.read_csv('fem_rides_9.csv')\n",
    "df10 = pd.read_csv('fem_rides_10.csv')\n",
    "df11 = pd.read_csv('fem_rides_11.csv')\n",
    "df12 = pd.read_csv('fem_rides_12.csv')"
   ]
  },
  {
   "cell_type": "code",
   "execution_count": 3,
   "metadata": {},
   "outputs": [],
   "source": [
    "df = df1.append(df2).append(df3).append(df4).append(df5).append(df6).append(df7).append(df8).append(df9).append(df10).append(df11).append(df12)"
   ]
  },
  {
   "cell_type": "code",
   "execution_count": 4,
   "metadata": {},
   "outputs": [],
   "source": [
    "df['ridership']=\"low\""
   ]
  },
  {
   "cell_type": "code",
   "execution_count": 5,
   "metadata": {},
   "outputs": [],
   "source": [
    "df.to_csv('fem_rides_y.csv')"
   ]
  },
  {
   "cell_type": "code",
   "execution_count": 6,
   "metadata": {},
   "outputs": [],
   "source": [
    "hf1 = pd.read_csv('fem_high_1.csv')\n",
    "hf2 = pd.read_csv('fem_high_2.csv')\n",
    "hf3 = pd.read_csv('fem_high_3.csv')\n",
    "hf4 = pd.read_csv('fem_high_4.csv')\n",
    "hf5 = pd.read_csv('fem_high_5.csv')\n",
    "hf6 = pd.read_csv('fem_high_6.csv')\n",
    "hf7 = pd.read_csv('fem_high_7.csv')\n",
    "hf8 = pd.read_csv('fem_high_8.csv')\n",
    "hf9 = pd.read_csv('fem_high_9.csv')\n",
    "hf10 = pd.read_csv('fem_high_10.csv')\n",
    "hf11 = pd.read_csv('fem_high_11.csv')\n",
    "hf12 = pd.read_csv('fem_high_12.csv')"
   ]
  },
  {
   "cell_type": "code",
   "execution_count": 7,
   "metadata": {},
   "outputs": [],
   "source": [
    "hf = hf1.append(hf2).append(hf3).append(hf4).append(hf5).append(hf6).append(hf7).append(hf8).append(hf9).append(hf10).append(hf11).append(hf12)"
   ]
  },
  {
   "cell_type": "code",
   "execution_count": 8,
   "metadata": {},
   "outputs": [],
   "source": [
    "hf['ridership']=\"high\""
   ]
  },
  {
   "cell_type": "code",
   "execution_count": 9,
   "metadata": {},
   "outputs": [],
   "source": [
    "fem_full = df.append(hf)"
   ]
  },
  {
   "cell_type": "code",
   "execution_count": 10,
   "metadata": {},
   "outputs": [],
   "source": [
    "fem_full.to_csv('fem_full.csv')"
   ]
  },
  {
   "cell_type": "code",
   "execution_count": null,
   "metadata": {},
   "outputs": [],
   "source": []
  }
 ],
 "metadata": {
  "kernelspec": {
   "display_name": "Python 3",
   "language": "python",
   "name": "python3"
  },
  "language_info": {
   "codemirror_mode": {
    "name": "ipython",
    "version": 3
   },
   "file_extension": ".py",
   "mimetype": "text/x-python",
   "name": "python",
   "nbconvert_exporter": "python",
   "pygments_lexer": "ipython3",
   "version": "3.7.2"
  }
 },
 "nbformat": 4,
 "nbformat_minor": 2
}
