{
 "cells": [
  {
   "cell_type": "code",
   "execution_count": 1,
   "metadata": {},
   "outputs": [],
   "source": [
    "import numpy as np\n",
    "import matplotlib.pyplot as plt\n",
    "import pandas as pd\n",
    "from pandas import *\n",
    "import seaborn as sns\n",
    "from matplotlib import rcParams\n",
    "import datetime as dt"
   ]
  },
  {
   "cell_type": "code",
   "execution_count": 2,
   "metadata": {},
   "outputs": [],
   "source": [
    "jan_df = pd.read_csv('201801-citibike-tripdata.csv')\n"
   ]
  },
  {
   "cell_type": "code",
   "execution_count": 3,
   "metadata": {},
   "outputs": [],
   "source": [
    "bikeid_df = pd.DataFrame(jan_df.groupby(['bikeid'])['start station id'].count())\n",
    "bikeid_df_dur = pd.DataFrame(jan_df.groupby(['bikeid'])['tripduration'].mean())\n",
    "bikeid_df_final = pd.merge(bikeid_df, bikeid_df_dur, how='inner', on='bikeid')\n",
    "bikeid_df_final = bikeid_df_final.loc[bikeid_df_final['tripduration'] < 3600]"
   ]
  },
  {
   "cell_type": "code",
   "execution_count": 4,
   "metadata": {},
   "outputs": [],
   "source": [
    "lady_rides = jan_df.loc[jan_df['gender'] == 2]\n",
    "lady_stations = pd.DataFrame(lady_rides['start station id'].value_counts())\n",
    "all_stations = pd.DataFrame(jan_df['start station id'].value_counts())\n",
    "lady_data = pd.merge(lady_stations, all_stations, left_index=True, right_index=True, how=\"inner\")\n",
    "lady_data = lady_data.rename(columns={'start station id_x': 'Female Trips', 'start station id_y': 'All Trips'})\n",
    "lady_data['Female Trip %'] = lady_data['Female Trips']/lady_data['All Trips']"
   ]
  },
  {
   "cell_type": "code",
   "execution_count": 5,
   "metadata": {},
   "outputs": [],
   "source": [
    "little_lady_data = pd.DataFrame(lady_data.nlargest(20, 'Female Trip %'))\n",
    "little_lady_data = little_lady_data.reset_index()"
   ]
  },
  {
   "cell_type": "code",
   "execution_count": 6,
   "metadata": {},
   "outputs": [],
   "source": [
    "little_lady_data = little_lady_data.rename(columns={'index': 'start station id'})"
   ]
  },
  {
   "cell_type": "code",
   "execution_count": 7,
   "metadata": {},
   "outputs": [],
   "source": [
    "little_lady_data['month']=\"January\""
   ]
  },
  {
   "cell_type": "code",
   "execution_count": 8,
   "metadata": {},
   "outputs": [],
   "source": [
    "loc_data = pd.DataFrame(jan_df[['start station id','start station latitude', 'start station longitude']])\n",
    "loc_data = loc_data.drop_duplicates()\n",
    "jan_fem_rides = pd.merge(little_lady_data, loc_data, on='start station id', how='inner')"
   ]
  },
  {
   "cell_type": "code",
   "execution_count": 9,
   "metadata": {},
   "outputs": [],
   "source": [
    "jan_fem_rides.to_csv('fem_high_1.csv')"
   ]
  },
  {
   "cell_type": "code",
   "execution_count": 10,
   "metadata": {},
   "outputs": [],
   "source": [
    "df = pd.read_csv('fem_high_1.csv')"
   ]
  },
  {
   "cell_type": "code",
   "execution_count": 13,
   "metadata": {},
   "outputs": [],
   "source": []
  },
  {
   "cell_type": "code",
   "execution_count": null,
   "metadata": {},
   "outputs": [],
   "source": []
  }
 ],
 "metadata": {
  "kernelspec": {
   "display_name": "Python 3",
   "language": "python",
   "name": "python3"
  },
  "language_info": {
   "codemirror_mode": {
    "name": "ipython",
    "version": 3
   },
   "file_extension": ".py",
   "mimetype": "text/x-python",
   "name": "python",
   "nbconvert_exporter": "python",
   "pygments_lexer": "ipython3",
   "version": "3.7.2"
  }
 },
 "nbformat": 4,
 "nbformat_minor": 2
}
